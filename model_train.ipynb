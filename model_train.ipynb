{
 "cells": [
  {
   "cell_type": "code",
   "execution_count": 24,
   "metadata": {},
   "outputs": [],
   "source": [
    "import tensorflow as tf\n",
    "from tensorflow.keras import layers, models\n",
    "from tensorflow.keras.preprocessing.image import ImageDataGenerator\n",
    "import matplotlib.pyplot as plt\n",
    "import numpy as np"
   ]
  },
  {
   "cell_type": "code",
   "execution_count": 37,
   "metadata": {},
   "outputs": [
    {
     "name": "stdout",
     "output_type": "stream",
     "text": [
      "Found 498 images belonging to 2 classes.\n",
      "Found 500 images belonging to 2 classes.\n"
     ]
    }
   ],
   "source": [
    "IMAGE_SIZE = 224\n",
    "train_datagen = ImageDataGenerator(\n",
    "        rotation_range=40,\n",
    "        rescale=1./255,\n",
    "        shear_range=0.2,\n",
    "        zoom_range=0.2,\n",
    "        horizontal_flip=True)\n",
    "test_datagen = ImageDataGenerator(rescale=1./255)\n",
    "\n",
    "train_generator = train_datagen.flow_from_directory(\n",
    "        'seefood/train',\n",
    "        target_size=(IMAGE_SIZE, IMAGE_SIZE),\n",
    "        batch_size=32,\n",
    "        class_mode='binary')\n",
    "\n",
    "test_generator = test_datagen.flow_from_directory(\n",
    "        'seefood/test',\n",
    "        target_size=(IMAGE_SIZE, IMAGE_SIZE),\n",
    "        batch_size=64,\n",
    "        class_mode='binary')\n",
    "\n"
   ]
  },
  {
   "cell_type": "code",
   "execution_count": 26,
   "metadata": {},
   "outputs": [],
   "source": [
    "base_model = tf.keras.applications.MobileNetV2(input_shape=(IMAGE_SIZE, IMAGE_SIZE, 3),\n",
    "                                               include_top=False,\n",
    "                                               weights='imagenet')\n",
    "base_model.trainable = False      #freeze the base model. Pre-trained "
   ]
  },
  {
   "cell_type": "code",
   "execution_count": 27,
   "metadata": {},
   "outputs": [],
   "source": [
    "#We have 7x7 activation maps rn. GlobalAveragePooling will give us 7x7 pooled 1280 size layer. (Instead of flattening)\n",
    "global_average_layer = tf.keras.layers.GlobalAveragePooling2D()"
   ]
  },
  {
   "cell_type": "code",
   "execution_count": 28,
   "metadata": {},
   "outputs": [],
   "source": [
    "#only two classes. so a dense layer with one neuron\n",
    "#You don't need an activation function here because this prediction will be treated as a logit, or a raw prediction value. \n",
    "#Positive numbers predict class 1, negative numbers predict class 0.\n",
    "prediction_layer = tf.keras.layers.Dense(1)"
   ]
  },
  {
   "cell_type": "code",
   "execution_count": 29,
   "metadata": {},
   "outputs": [],
   "source": [
    "model = tf.keras.Sequential([\n",
    "  base_model,\n",
    "  global_average_layer,\n",
    "  prediction_layer\n",
    "])"
   ]
  },
  {
   "cell_type": "code",
   "execution_count": 39,
   "metadata": {},
   "outputs": [
    {
     "ename": "SyntaxError",
     "evalue": "invalid syntax (<ipython-input-39-38a1e103b57f>, line 6)",
     "output_type": "error",
     "traceback": [
      "\u001b[1;36m  File \u001b[1;32m\"<ipython-input-39-38a1e103b57f>\"\u001b[1;36m, line \u001b[1;32m6\u001b[0m\n\u001b[1;33m    loss=tf.keras.losses.BinaryCrossentropy(from_logits=True),\u001b[0m\n\u001b[1;37m       ^\u001b[0m\n\u001b[1;31mSyntaxError\u001b[0m\u001b[1;31m:\u001b[0m invalid syntax\n"
     ]
    }
   ],
   "source": [
    "base_learning_rate = 0.01    #very small to ensure no major changes\n",
    "\n",
    "#Since there are two classes, use a binary cross-entropy loss with from_logits=True since the model provides a linear output.\n",
    "model.compile(#optimizer=tf.keras.optimizers.RMSprop(lr=base_learning_rate),\n",
    "              optimizer='adam'\n",
    "              loss=tf.keras.losses.BinaryCrossentropy(from_logits=True),\n",
    "              metrics=['accuracy'])"
   ]
  },
  {
   "cell_type": "code",
   "execution_count": 40,
   "metadata": {},
   "outputs": [
    {
     "name": "stdout",
     "output_type": "stream",
     "text": [
      "WARNING:tensorflow:sample_weight modes were coerced from\n",
      "  ...\n",
      "    to  \n",
      "  ['...']\n",
      "Train for 8 steps\n",
      "Epoch 1/10\n",
      "8/8 [==============================] - 23s 3s/step - loss: 1.5271 - accuracy: 0.6250\n",
      "Epoch 2/10\n",
      "8/8 [==============================] - 21s 3s/step - loss: 0.9228 - accuracy: 0.6914\n",
      "Epoch 3/10\n",
      "8/8 [==============================] - 20s 3s/step - loss: 0.5389 - accuracy: 0.7975\n",
      "Epoch 4/10\n",
      "8/8 [==============================] - 25s 3s/step - loss: 0.6643 - accuracy: 0.7645\n",
      "Epoch 5/10\n",
      "8/8 [==============================] - 32s 4s/step - loss: 0.4416 - accuracy: 0.7975\n",
      "Epoch 6/10\n",
      "8/8 [==============================] - 24s 3s/step - loss: 0.4164 - accuracy: 0.8164\n",
      "Epoch 7/10\n",
      "8/8 [==============================] - 21s 3s/step - loss: 0.6824 - accuracy: 0.7521\n",
      "Epoch 8/10\n",
      "8/8 [==============================] - 32s 4s/step - loss: 0.3937 - accuracy: 0.8512\n",
      "Epoch 9/10\n",
      "8/8 [==============================] - 25s 3s/step - loss: 0.8272 - accuracy: 0.7066\n",
      "Epoch 10/10\n",
      "8/8 [==============================] - 20s 3s/step - loss: 0.6717 - accuracy: 0.7479\n"
     ]
    },
    {
     "data": {
      "text/plain": [
       "<tensorflow.python.keras.callbacks.History at 0x21100006cc8>"
      ]
     },
     "execution_count": 40,
     "metadata": {},
     "output_type": "execute_result"
    }
   ],
   "source": [
    "model.fit(train_generator, steps_per_epoch=8, epochs=10)"
   ]
  },
  {
   "cell_type": "code",
   "execution_count": 41,
   "metadata": {},
   "outputs": [
    {
     "name": "stdout",
     "output_type": "stream",
     "text": [
      "WARNING:tensorflow:sample_weight modes were coerced from\n",
      "  ...\n",
      "    to  \n",
      "  ['...']\n",
      "8/8 [==============================] - 11s 1s/step - loss: 0.3622 - accuracy: 0.8740\n"
     ]
    },
    {
     "data": {
      "text/plain": [
       "[0.3622194118797779, 0.874]"
      ]
     },
     "execution_count": 41,
     "metadata": {},
     "output_type": "execute_result"
    }
   ],
   "source": [
    "model.evaluate(test_generator)"
   ]
  },
  {
   "cell_type": "code",
   "execution_count": 42,
   "metadata": {},
   "outputs": [],
   "source": [
    "model.save('trained_hotdog.h5')"
   ]
  }
 ],
 "metadata": {
  "kernelspec": {
   "display_name": "Python 3.7.4 64-bit",
   "language": "python",
   "name": "python37464bitdb5ba43dcf1940308441cd202297e4dd"
  },
  "language_info": {
   "codemirror_mode": {
    "name": "ipython",
    "version": 3
   },
   "file_extension": ".py",
   "mimetype": "text/x-python",
   "name": "python",
   "nbconvert_exporter": "python",
   "pygments_lexer": "ipython3",
   "version": "3.7.4"
  }
 },
 "nbformat": 4,
 "nbformat_minor": 4
}